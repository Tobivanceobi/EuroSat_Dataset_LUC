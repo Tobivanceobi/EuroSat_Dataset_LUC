{
 "cells": [
  {
   "cell_type": "markdown",
   "source": [
    "# Training"
   ],
   "metadata": {
    "collapsed": false
   },
   "id": "1c96e1dbdb152f98"
  },
  {
   "cell_type": "code",
   "execution_count": null,
   "id": "initial_id",
   "metadata": {
    "collapsed": true
   },
   "outputs": [],
   "source": [
    "import pandas as pd\n",
    "import torch\n",
    "from pytorch_lightning import Trainer\n",
    "from sklearn.model_selection import train_test_split\n",
    "from torchvision import transforms\n",
    "\n",
    "from src.colors import bcolors\n",
    "from config import Config\n",
    "from src.training.data import EuroSatDataModule\n",
    "\n",
    "c = bcolors()\n",
    "config = Config()"
   ]
  },
  {
   "cell_type": "code",
   "outputs": [],
   "source": [
    "from fastai.vision.augment import aug_transforms\n",
    "from src.datasets.EuroSatMS import EuroSatMS\n",
    "\n",
    "device = torch.device('cuda' if torch.cuda.is_available() else 'cpu')\n",
    "\n",
    "df = pd.read_csv(config.TRAIN_FILE)\n",
    "df = df.head(1000)\n",
    "train_df, val_df = train_test_split(df, test_size=0.15, stratify=df['label'], random_state=67)\n",
    "\n",
    "chan = [3, 2, 1]\n",
    "\n",
    "data_transform = transforms.Compose([\n",
    "    transforms.Resize(256),\n",
    "    transforms.CenterCrop(224),\n",
    "    transforms.ToTensor(),\n",
    "    transforms.Normalize(mean=[0.485, 0.456, 0.406], std=[0.229, 0.224, 0.225]),\n",
    "])\n",
    "\n",
    "tfms = aug_transforms(\n",
    "    do_flip=True,\n",
    "    flip_vert=True,\n",
    "    pad_mode='zeros', \n",
    "    mult=2, \n",
    "    min_scale=0.5,\n",
    "    p_affine=0.6,\n",
    "    p_lighting=0.6\n",
    ")\n",
    "\n",
    "\n",
    "ds_train = EuroSatMS(train_df, config.TRAIN_MS_DIR, select_chan=chan, transform=data_transform, augment=tfms)\n",
    "ds_val = EuroSatMS(val_df, config.TRAIN_MS_DIR, select_chan=chan, transform=data_transform, augment=tfms)"
   ],
   "metadata": {
    "collapsed": false
   },
   "id": "89850dd26de91e3a",
   "execution_count": null
  },
  {
   "cell_type": "code",
   "outputs": [],
   "source": [
    "BATCH_SIZE = 64\n",
    "\n",
    "print(f\"\"\"{c.OKGREEN}Initializing the data module...{c.ENDC}\"\"\")\n",
    "data_module = EuroSatDataModule(ds_train, ds_val, config.TRAIN_MS_DIR, BATCH_SIZE)"
   ],
   "metadata": {
    "collapsed": false
   },
   "id": "9471ef6f17ba66c1",
   "execution_count": null
  },
  {
   "cell_type": "code",
   "outputs": [],
   "source": [
    "from src.training.cnn import LitEuroSatCnn\n",
    "from src.training.resNet50 import EuroSatResNet\n",
    "\n",
    "LEARNING_RATE = 0.01\n",
    "KERNEL_SIZE = 3\n",
    "N_CLASSES = 10\n",
    "\n",
    "print(f\"\"\"{c.OKGREEN}Initializing the model...{c.ENDC}\"\"\")\n",
    "lightning_model = EuroSatResNet(num_classes=N_CLASSES, learning_rate=LEARNING_RATE)\n",
    "# lightning_model = LitEuroSatCnn(num_classes=10, learning_rate=LEARNING_RATE, num_channels=len(chan), kernel_size=KERNEL_SIZE)"
   ],
   "metadata": {
    "collapsed": false
   },
   "id": "fa70fc0415fe6817",
   "execution_count": null
  },
  {
   "cell_type": "markdown",
   "source": [
    "### Train ResNet50\n",
    "First the pretrained model is frozen and trained for n epochs."
   ],
   "metadata": {
    "collapsed": false
   },
   "id": "422142955242cec7"
  },
  {
   "cell_type": "code",
   "outputs": [],
   "source": [
    "N_EPOCHS = 3\n",
    "\n",
    "# Initialize the Trainer\n",
    "trainer = Trainer(max_epochs=N_EPOCHS, accelerator=\"gpu\", devices=1)\n",
    "\n",
    "# Train the model\n",
    "trainer.fit(lightning_model, datamodule=data_module)"
   ],
   "metadata": {
    "collapsed": false
   },
   "id": "efb3d4dce1d9c8f8",
   "execution_count": null
  },
  {
   "cell_type": "code",
   "outputs": [],
   "source": [
    "trainer.validate(lightning_model, datamodule=data_module)"
   ],
   "metadata": {
    "collapsed": false
   },
   "id": "28a7c062d1e82c9e",
   "execution_count": null
  },
  {
   "cell_type": "code",
   "outputs": [],
   "source": [
    "import gc\n",
    "\n",
    "data_module = None\n",
    "lightning_model = None\n",
    "trainer = None\n",
    "gc.collect()\n",
    "torch.cuda.empty_cache()"
   ],
   "metadata": {
    "collapsed": false
   },
   "id": "d35f1e89812906ae",
   "execution_count": null
  },
  {
   "cell_type": "markdown",
   "source": [
    "Unfreeze the last n_layer, set a smaller lr and train for n epochs."
   ],
   "metadata": {
    "collapsed": false
   },
   "id": "ad28f7e3693942df"
  },
  {
   "cell_type": "code",
   "outputs": [],
   "source": [
    "data_module = EuroSatDataModule(ds_train, ds_val, config.TRAIN_MS_DIR, BATCH_SIZE)\n",
    "lightning_model = EuroSatResNet.load_from_checkpoint(\"lightning_logs/version_0/checkpoints/epoch=2-step=270.ckpt\")"
   ],
   "metadata": {
    "collapsed": false
   },
   "id": "de15a3294f1f1b08",
   "execution_count": null
  },
  {
   "cell_type": "code",
   "outputs": [],
   "source": [
    "# Adjust the learning rate and max epochs\n",
    "NEW_LR = 1e-3\n",
    "NEW_EP = 3\n",
    "\n",
    "trainer = Trainer(max_epochs=NEW_EP, accelerator=\"gpu\", devices=1)\n",
    "\n",
    "# Unfreeze and train the model\n",
    "lightning_model.unfreez_children_layers(2)\n",
    "trainer.fit(lightning_model, datamodule=data_module)"
   ],
   "metadata": {
    "collapsed": false
   },
   "id": "f06110440e7ef136",
   "execution_count": null
  },
  {
   "cell_type": "code",
   "outputs": [],
   "source": [
    "import gc\n",
    "\n",
    "data_module = None\n",
    "lightning_model = None\n",
    "gc.collect()\n",
    "torch.cuda.empty_cache()"
   ],
   "metadata": {
    "collapsed": false
   },
   "id": "38c59a4227f63c3c",
   "execution_count": null
  },
  {
   "cell_type": "markdown",
   "source": [
    "# Predict on the test set"
   ],
   "metadata": {
    "collapsed": false
   },
   "id": "d14c14d786b83fa8"
  },
  {
   "cell_type": "code",
   "outputs": [],
   "source": [
    "from src.training.resNet50 import EuroSatResNet\n",
    "from src.training.cnn import LitEuroSatCnn\n",
    "from config import Config\n",
    "\n",
    "config = Config()\n",
    "\n",
    "# Load the model from the checkpoint\n",
    "# model = EuroSatResNet.load_from_checkpoint(\"lightning_logs/version_1/checkpoints/epoch=4-step=425.ckpt\")\n",
    "model = LitEuroSatCnn.load_from_checkpoint(\"lightning_logs/version_9/checkpoints/epoch=9-step=900.ckpt\")\n",
    "\n",
    "# Set the model to evaluation mode\n",
    "model.eval()\n",
    "model.freeze()"
   ],
   "metadata": {
    "collapsed": false
   },
   "id": "b042a06f7a52870c",
   "execution_count": null
  },
  {
   "cell_type": "code",
   "outputs": [],
   "source": [
    "# Test the model\n",
    "trainer.validate(model, datamodule=data_module)"
   ],
   "metadata": {
    "collapsed": false
   },
   "id": "bf5936b526cad941",
   "execution_count": null
  },
  {
   "cell_type": "code",
   "outputs": [],
   "source": [
    "from torchvision import transforms\n",
    "from src.datasets.EuroSatTest import EuroSatTestSet\n",
    "from torch.utils.data import DataLoader\n",
    "\n",
    "chan = [6, 5, 4, 3, 2, 1]\n",
    "dataset = EuroSatTestSet(config.TEST_MS_DIR, select_chan=chan)\n",
    "dataloader = DataLoader(dataset, batch_size=32, shuffle=False)\n"
   ],
   "metadata": {
    "collapsed": false
   },
   "id": "fbe578b12c3ba259",
   "execution_count": null
  },
  {
   "cell_type": "code",
   "outputs": [],
   "source": [
    "import torch\n",
    "import numpy as np\n",
    "\n",
    "\n",
    "device = torch.device(\"cuda\" if torch.cuda.is_available() else \"cpu\")\n",
    "model = model.to(device)\n",
    "model.eval()\n",
    "\n",
    "N_CLASSES = 10\n",
    "categorys = dataset.enc.categories_[0]\n",
    "\n",
    "predictions = []\n",
    "probabilities = []\n",
    "ohe = []\n",
    "images = []\n",
    "sample_ids = []\n",
    "\n",
    "with torch.no_grad():\n",
    "    for batch in dataloader:\n",
    "        inputs, samp_id = batch\n",
    "        inputs = inputs.to(device)\n",
    "\n",
    "        outputs = model(inputs)\n",
    "\n",
    "        probs = torch.softmax(outputs, dim=1).cpu()\n",
    "        \n",
    "        _, preds = torch.max(probs, 1)\n",
    "        preds = preds.cpu().numpy()\n",
    "        \n",
    "        preds_enc = np.zeros((preds.size, N_CLASSES))\n",
    "        preds_enc[np.arange(preds.size), preds] = 1\n",
    "        \n",
    "        pred_labels = np.array([categorys[p] for p in preds])\n",
    "        \n",
    "        \n",
    "        # print(preds[0])\n",
    "        # print(preds_enc[0])\n",
    "        # print(pred_labels[0])\n",
    "        \n",
    "        predictions.extend(pred_labels)\n",
    "        images.extend(inputs.cpu())\n",
    "        sample_ids.extend(samp_id.cpu())\n",
    "        probabilities.extend(probs.cpu())\n",
    "        ohe.extend(preds_enc)\n"
   ],
   "metadata": {
    "collapsed": false
   },
   "id": "194979db7753d23d",
   "execution_count": null
  },
  {
   "cell_type": "code",
   "outputs": [],
   "source": [
    "import pandas as pd\n",
    "\n",
    "\n",
    "sub_df = pd.DataFrame({'test_id': np.array(sample_ids), 'label': np.array(predictions)})\n",
    "sub_df = sub_df.sort_values(by='test_id')\n",
    "print(sub_df.head())\n",
    "\n",
    "sub_df.to_csv('submission.csv', index=False)"
   ],
   "metadata": {
    "collapsed": false
   },
   "id": "58b692ad612e50fa",
   "execution_count": null
  },
  {
   "cell_type": "code",
   "outputs": [],
   "source": [
    "from PIL import Image\n",
    "from matplotlib import pyplot as plt\n",
    "\n",
    "for img, samp_id, pred, probs, e in zip(images[:100], \n",
    "                                     sample_ids[:100], \n",
    "                                     predictions[:100], \n",
    "                                     probabilities[:100],\n",
    "                                     ohe[:1000]):\n",
    "    # if pred != \"Industrial\":\n",
    "    #     continue\n",
    "    print(f\"Sample ID: {samp_id}, Prediction: {pred}\")\n",
    "    print(e)\n",
    "    print(pred)\n",
    "    raw = np.load(f\"data/test/NoLabel/test_{samp_id}.npy\")\n",
    "    img = raw[:, :, [3, 2, 1]]\n",
    "    print(img.shape)\n",
    "    rgb_min = img.min()\n",
    "    rgb_max = img.max()\n",
    "\n",
    "    img = (img - rgb_min) / (rgb_max - rgb_min)\n",
    "    \n",
    "    plt.imshow(img)\n",
    "    plt.show()"
   ],
   "metadata": {
    "collapsed": false
   },
   "id": "92c86ebc6b28bb3b",
   "execution_count": null
  },
  {
   "cell_type": "code",
   "outputs": [],
   "source": [],
   "metadata": {
    "collapsed": false
   },
   "id": "6913a9fc5374ceb5"
  }
 ],
 "metadata": {
  "kernelspec": {
   "display_name": "Python 3",
   "language": "python",
   "name": "python3"
  },
  "language_info": {
   "codemirror_mode": {
    "name": "ipython",
    "version": 2
   },
   "file_extension": ".py",
   "mimetype": "text/x-python",
   "name": "python",
   "nbconvert_exporter": "python",
   "pygments_lexer": "ipython2",
   "version": "2.7.6"
  }
 },
 "nbformat": 4,
 "nbformat_minor": 5
}
