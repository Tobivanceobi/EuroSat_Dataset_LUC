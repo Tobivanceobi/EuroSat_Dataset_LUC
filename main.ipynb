{
 "cells": [
  {
   "cell_type": "markdown",
   "source": [
    "# Load the data"
   ],
   "metadata": {
    "collapsed": false
   },
   "id": "1c96e1dbdb152f98"
  },
  {
   "cell_type": "code",
   "execution_count": null,
   "id": "initial_id",
   "metadata": {
    "collapsed": true
   },
   "outputs": [],
   "source": [
    "import pandas as pd\n",
    "import torch\n",
    "from pytorch_lightning import Trainer\n",
    "from sklearn.model_selection import train_test_split\n",
    "from torchvision import transforms\n",
    "from torchvision.models import AlexNet_Weights\n",
    "from torch import nn\n",
    "from torchvision.models import ResNet50_Weights, ResNet18_Weights\n",
    "from torchvision import models\n",
    "\n",
    "from src.colors import bcolors\n",
    "from config import Config\n",
    "from src.training.data import EuroSatDataModule\n",
    "\n",
    "c = bcolors()\n",
    "config = Config()"
   ]
  },
  {
   "cell_type": "code",
   "outputs": [],
   "source": [
    "from src.pickle_loader import load_object\n",
    "\n",
    "stats = load_object(\"data/eurosat_ms_mean_std\")\n",
    "mean = stats['mean']\n",
    "std = stats['std']\n",
    "chan_idx = stats['idx']"
   ],
   "metadata": {
    "collapsed": false
   },
   "id": "ea2db869e77d2168",
   "execution_count": null
  },
  {
   "cell_type": "code",
   "outputs": [],
   "source": [
    "from src.datasets.EuroSatMS import EuroSatMS\n",
    "import kornia.augmentation as K\n",
    "\n",
    "device = torch.device('cuda' if torch.cuda.is_available() else 'cpu')\n",
    "\n",
    "df = pd.read_csv(config.TRAIN_FILE)\n",
    "\n",
    "train_df, val_df = train_test_split(df, test_size=0.2, stratify=df['label'], random_state=61)\n",
    "\n",
    "chan = [3, 2, 1]\n",
    "num_classes = 10\n",
    "\n",
    "transform_cnn = transforms.Compose([\n",
    "    K.Normalize(mean=mean[chan], std=std[chan])\n",
    "])\n",
    "\n",
    "transform_pt = transforms.Compose([\n",
    "    transforms.Resize(224),\n",
    "    transforms.ToTensor(),\n",
    "    transforms.Normalize(mean=[0.485, 0.456, 0.406], std=[0.229, 0.224, 0.225])\n",
    "])\n",
    "\n",
    "augmentation = nn.Sequential(\n",
    "    K.RandomHorizontalFlip(p=0.75),\n",
    "    K.RandomVerticalFlip(p=0.75),\n",
    "    K.RandomAffine(degrees=40, translate=None, shear=(0.2, 0.2), scale=(1, 1.2), padding_mode=1, p=0.75),\n",
    "    K.ColorJitter(brightness=0.1, contrast=0.1, saturation=0.1, hue=0),\n",
    "    K.CenterCrop(size=(64, 64))\n",
    ")\n",
    "\n",
    "ds_train = EuroSatMS(train_df, config.TRAIN_MS_DIR, select_chan=chan, augment=augmentation) #, transform=transform_cnn)\n",
    "ds_val = EuroSatMS(val_df, config.TRAIN_MS_DIR, select_chan=chan, augment=augmentation) #, transform=transform_cnn)"
   ],
   "metadata": {
    "collapsed": false
   },
   "id": "89850dd26de91e3a",
   "execution_count": null
  },
  {
   "cell_type": "code",
   "outputs": [],
   "source": [
    "BATCH_SIZE = 512\n",
    "\n",
    "print(f\"\"\"{c.OKGREEN}Initializing the data module...{c.ENDC}\"\"\")\n",
    "data_module = EuroSatDataModule(ds_train, ds_val, config.TRAIN_MS_DIR, BATCH_SIZE)"
   ],
   "metadata": {
    "collapsed": false
   },
   "id": "9471ef6f17ba66c1",
   "execution_count": null
  },
  {
   "cell_type": "code",
   "outputs": [],
   "source": [
    "def print_layers_require_grad(model_p, prefix=''):\n",
    "    for name, module in model_p.named_children():\n",
    "        full_name = f\"{prefix + '.' if prefix else ''}{name}\"\n",
    "        if list(module.parameters(recurse=False)):\n",
    "            print('\\n' + full_name + '\\n')\n",
    "            for param_name, param in module.named_parameters(recurse=False):\n",
    "                param_full_name = f\"{full_name}.{param_name}\"\n",
    "                print(f\"{param_full_name}: requires_grad={param.requires_grad}\")\n",
    "        print_layers_require_grad(module, prefix=full_name)"
   ],
   "metadata": {
    "collapsed": false
   },
   "id": "17f135f7432b4f45",
   "execution_count": null
  },
  {
   "cell_type": "markdown",
   "source": [
    "# CNN Model Training"
   ],
   "metadata": {
    "collapsed": false
   },
   "id": "693660b793045e2a"
  },
  {
   "cell_type": "code",
   "outputs": [],
   "source": [
    "from src.training.cnn import LitEuroSatCnn\n",
    "\n",
    "lightning_model = LitEuroSatCnn(\n",
    "    num_classes=10,\n",
    "    learning_rate=0.03, \n",
    "    num_channels=len(chan), \n",
    "    kernel_size=7,\n",
    "    momentum=0.9,\n",
    "    gamma=0.9\n",
    ")\n",
    "\n",
    "trainer = Trainer(\n",
    "    max_epochs=20,\n",
    "    accelerator=\"gpu\", \n",
    "    devices=1\n",
    ")\n",
    "\n",
    "trainer.fit(lightning_model, datamodule=data_module)"
   ],
   "metadata": {
    "collapsed": false
   },
   "id": "fa70fc0415fe6817",
   "execution_count": null
  },
  {
   "cell_type": "code",
   "outputs": [],
   "source": [
    "trainer.validate(lightning_model, datamodule=data_module)"
   ],
   "metadata": {
    "collapsed": false
   },
   "id": "2bb7804baa9a7fa0",
   "execution_count": null
  },
  {
   "cell_type": "markdown",
   "source": [],
   "metadata": {
    "collapsed": false
   },
   "id": "2e31138fe1fbd612"
  },
  {
   "cell_type": "markdown",
   "source": [
    "# Pretrained Model Training\n",
    "### Training Phase 1\n",
    "##### Pretrained ResNet50, ResNet18, AlexNet Model"
   ],
   "metadata": {
    "collapsed": false
   },
   "id": "d7460c6672b1ff7c"
  },
  {
   "cell_type": "code",
   "outputs": [],
   "source": [
    "# model = models.resnet50(weights=ResNet50_Weights.DEFAULT)\n",
    "# model = models.resnet18(weights=ResNet18_Weights.DEFAULT)\n",
    "# model = models.alexnet(weights=AlexNet_Weights.DEFAULT)"
   ],
   "metadata": {
    "collapsed": false
   },
   "id": "a7506054d07ddabd",
   "execution_count": null
  },
  {
   "cell_type": "code",
   "outputs": [],
   "source": [
    "from pytorch_lightning.callbacks import BackboneFinetuning\n",
    "from src.training.pretrainedModels import EuroSatPreTrainedModel\n",
    "\n",
    "lightning_model = EuroSatPreTrainedModel(\n",
    "    backbone=model, \n",
    "    learning_rate=0.003,\n",
    "    momentum=0.8,\n",
    "    gamma=0.9,\n",
    "    n_classes=10\n",
    ")\n",
    "\n",
    "backbone_finetuning = BackboneFinetuning(\n",
    "    unfreeze_backbone_at_epoch=2,\n",
    "    lambda_func=lambda epoch: 1.1,\n",
    "    backbone_initial_lr=0.00001,\n",
    "    verbose=True\n",
    ")\n",
    "\n",
    "trainer = Trainer(\n",
    "    max_epochs=10,\n",
    "    callbacks=[backbone_finetuning],\n",
    "    accelerator=\"gpu\", \n",
    "    devices=1\n",
    ")\n",
    "\n",
    "# for param in lightning_model.model.classifier[6].parameters():\n",
    "#     param.requires_grad = True\n",
    "\n",
    "trainer.fit(lightning_model, datamodule=data_module)"
   ],
   "metadata": {
    "collapsed": false
   },
   "id": "efb3d4dce1d9c8f8",
   "execution_count": null
  },
  {
   "cell_type": "code",
   "outputs": [],
   "source": [
    "trainer.validate(lightning_model, datamodule=data_module)"
   ],
   "metadata": {
    "collapsed": false
   },
   "id": "28a7c062d1e82c9e",
   "execution_count": null
  },
  {
   "cell_type": "code",
   "outputs": [],
   "source": [
    "import gc\n",
    "\n",
    "lightning_model = None\n",
    "trainer = None\n",
    "gc.collect()\n",
    "torch.cuda.empty_cache()"
   ],
   "metadata": {
    "collapsed": false
   },
   "id": "d35f1e89812906ae",
   "execution_count": null
  },
  {
   "cell_type": "markdown",
   "source": [
    "### Training Phase 2"
   ],
   "metadata": {
    "collapsed": false
   },
   "id": "ad28f7e3693942df"
  },
  {
   "cell_type": "code",
   "outputs": [],
   "source": [
    "# Adjust the learning rate and max epochs\n",
    "NEW_LR = 1e-4\n",
    "MOMENTUM = 0.9\n",
    "NEW_EP = 5\n",
    "CKP_PATH = \"lightning_logs/version_0/checkpoints/epoch=9-step=740.ckpt\"\n",
    "\n",
    "lightning_model = EuroSatPreTrainedModel.load_from_checkpoint(\n",
    "    CKP_PATH,\n",
    "    model=model,\n",
    "    learning_rate=NEW_LR,\n",
    "    momentum=MOMENTUM\n",
    ")\n",
    "\n",
    "lightning_model.freeze_model()\n",
    "\n",
    "for i in range(0, 7):\n",
    "    for param in lightning_model.model.classifier[i].parameters():\n",
    "        param.requires_grad = True\n",
    "        \n",
    "print_layers_require_grad(lightning_model.model) \n",
    "print(f\"\\n{c.OKGREEN}Starting training...{c.ENDC}\\n\")\n",
    "trainer = Trainer(max_epochs=NEW_EP, accelerator=\"gpu\", devices=1)\n",
    "trainer.fit(lightning_model, datamodule=data_module)"
   ],
   "metadata": {
    "collapsed": false
   },
   "id": "f06110440e7ef136",
   "execution_count": null
  },
  {
   "cell_type": "code",
   "outputs": [],
   "source": [
    "import gc\n",
    "\n",
    "lightning_model = None\n",
    "trainer = None\n",
    "gc.collect()\n",
    "torch.cuda.empty_cache()"
   ],
   "metadata": {
    "collapsed": false
   },
   "id": "38c59a4227f63c3c",
   "execution_count": null
  },
  {
   "cell_type": "markdown",
   "source": [
    "# Predict on the test set"
   ],
   "metadata": {
    "collapsed": false
   },
   "id": "d14c14d786b83fa8"
  },
  {
   "cell_type": "code",
   "outputs": [],
   "source": [
    "from torch import nn\n",
    "from src.datasets.EuroSatTest import EuroSatTestSet\n",
    "from torch.utils.data import DataLoader\n",
    "from config import Config\n",
    "import kornia.augmentation as K\n",
    "from src.pickle_loader import load_object\n",
    "from torchvision import transforms\n",
    "\n",
    "config = Config()\n",
    "\n",
    "stats = load_object(\"data/eurosat_ms_mean_std\")\n",
    "mean = stats['mean']\n",
    "std = stats['std']\n",
    "chan_idx = stats['idx']\n",
    "\n",
    "stat_chan = [3, 2, 1]\n",
    "\n",
    "transform_cnn = transforms.Compose([\n",
    "    K.Normalize(mean=mean[chan], std=std[chan])\n",
    "])\n",
    "\n",
    "augmentation = nn.Sequential(\n",
    "    K.RandomHorizontalFlip(p=0.75),\n",
    "    K.RandomVerticalFlip(p=0.75),\n",
    "    K.RandomAffine(degrees=40, translate=None, shear=(0.2, 0.2), scale=(1, 1.2), padding_mode=1, p=0.75),\n",
    "    # K.ColorJitter(brightness=0.2, contrast=0.3, saturation=0.2, hue=0),\n",
    "    K.CenterCrop(size=(64, 64))\n",
    ")\n",
    "\n",
    "chan = [3, 2, 1]\n",
    "\n",
    "dataset = EuroSatTestSet(config.TEST_MS_DIR, select_chan=chan) #, augment=augmentation)\n",
    "dataloader = DataLoader(dataset, batch_size=32, shuffle=False)\n"
   ],
   "metadata": {
    "collapsed": false
   },
   "id": "fbe578b12c3ba259",
   "execution_count": null
  },
  {
   "cell_type": "code",
   "outputs": [],
   "source": [
    "from src.training.pretrainedModels import EuroSatPreTrainedModel\n",
    "from src.training.cnn import LitEuroSatCnn\n",
    "from config import Config\n",
    "\n",
    "config = Config()\n",
    "\n",
    "# model = EuroSatResNet.load_from_checkpoint(\"lightning_logs/version_1/checkpoints/epoch=4-step=425.ckpt\")\n",
    "\n",
    "model = LitEuroSatCnn.load_from_checkpoint(\n",
    "    \"lightning_logs/version_0/checkpoints/epoch=14-step=1275.ckpt\",\n",
    "    num_classes=10,\n",
    "    num_channels=len(chan),\n",
    "    kernel_size=7,\n",
    ")\n",
    "\n",
    "# Set the model to evaluation mode\n",
    "model.eval()\n",
    "model.freeze()"
   ],
   "metadata": {
    "collapsed": false
   },
   "id": "b042a06f7a52870c",
   "execution_count": null
  },
  {
   "cell_type": "code",
   "outputs": [],
   "source": [
    "# Test the model\n",
    "# model = lightning_model\n",
    "# trainer.validate(model, datamodule=data_module)"
   ],
   "metadata": {
    "collapsed": false
   },
   "id": "bf5936b526cad941",
   "execution_count": null
  },
  {
   "cell_type": "code",
   "outputs": [],
   "source": [
    "import torch\n",
    "import numpy as np\n",
    "\n",
    "\n",
    "device = torch.device(\"cuda\" if torch.cuda.is_available() else \"cpu\")\n",
    "model = model.to(device)\n",
    "model.eval()\n",
    "\n",
    "N_CLASSES = 10\n",
    "categorys = dataset.enc.categories_[0]\n",
    "\n",
    "predictions = []\n",
    "probabilities = []\n",
    "ohe = []\n",
    "images = []\n",
    "sample_ids = []\n",
    "\n",
    "with torch.no_grad():\n",
    "    for batch in dataloader:\n",
    "        inputs, samp_id = batch\n",
    "        inputs = inputs.to(device)\n",
    "\n",
    "        outputs = model(inputs)\n",
    "\n",
    "        probs = torch.softmax(outputs, dim=1).cpu()\n",
    "        \n",
    "        _, preds = torch.max(probs, 1)\n",
    "        preds = preds.cpu().numpy()\n",
    "        \n",
    "        preds_enc = np.zeros((preds.size, N_CLASSES))\n",
    "        preds_enc[np.arange(preds.size), preds] = 1\n",
    "        \n",
    "        pred_labels = np.array([categorys[p] for p in preds])\n",
    "        \n",
    "        \n",
    "        # print(preds[0])\n",
    "        # print(preds_enc[0])\n",
    "        # print(pred_labels[0])\n",
    "        \n",
    "        predictions.extend(pred_labels)\n",
    "        images.extend(inputs.cpu())\n",
    "        sample_ids.extend(samp_id.cpu())\n",
    "        probabilities.extend(probs.cpu())\n",
    "        ohe.extend(preds_enc)\n"
   ],
   "metadata": {
    "collapsed": false
   },
   "id": "194979db7753d23d",
   "execution_count": null
  },
  {
   "cell_type": "code",
   "outputs": [],
   "source": [
    "import pandas as pd\n",
    "\n",
    "\n",
    "sub_df = pd.DataFrame({'test_id': np.array(sample_ids), 'label': np.array(predictions)})\n",
    "sub_df = sub_df.sort_values(by='test_id')\n",
    "print(sub_df.head())\n",
    "\n",
    "sub_df.to_csv('submission.csv', index=False)"
   ],
   "metadata": {
    "collapsed": false
   },
   "id": "58b692ad612e50fa",
   "execution_count": null
  },
  {
   "cell_type": "code",
   "outputs": [],
   "source": [
    "import random\n",
    "from PIL import Image\n",
    "from torchvision.transforms import v2 as T\n",
    "from matplotlib import pyplot as plt\n",
    "\n",
    "samp_batch_idx = [i for i in range(0, len(sample_ids))]\n",
    "random.shuffle(samp_batch_idx)\n",
    "\n",
    "n = 5\n",
    "\n",
    "for batch_start in range(0, n*8, 8):  # Iterate in steps of 8\n",
    "    fig, axs = plt.subplots(2, 4, figsize=(20, 10))  # Create a new figure for each batch\n",
    "    axs = axs.flatten()  # Flatten the grid for easy iteration\n",
    "\n",
    "    for idx, ax in zip(samp_batch_idx[batch_start:batch_start+8], axs):\n",
    "        pred = predictions[idx]\n",
    "        samp_id = sample_ids[idx]\n",
    "        \n",
    "        raw = np.load(f\"data/test/NoLabel/test_{samp_id}.npy\")\n",
    "        img = raw[:, :, [3, 2, 1]]\n",
    "\n",
    "        # Normalize the image\n",
    "        rgb_min, rgb_max = img.min(), img.max()\n",
    "        img = (img - rgb_min) / (rgb_max - rgb_min)\n",
    "\n",
    "        # Plotting\n",
    "        ax.imshow(img)\n",
    "        ax.set_title(pred, fontsize=20)\n",
    "        ax.axis('off')\n",
    "\n",
    "    plt.tight_layout()\n",
    "    plt.subplots_adjust(wspace=0.2, hspace=0.2)\n",
    "    plt.show()"
   ],
   "metadata": {
    "collapsed": false
   },
   "id": "92c86ebc6b28bb3b",
   "execution_count": null
  },
  {
   "cell_type": "code",
   "outputs": [],
   "source": [],
   "metadata": {
    "collapsed": false
   },
   "id": "e2e6f2c3f2784f47"
  }
 ],
 "metadata": {
  "kernelspec": {
   "display_name": "Python 3",
   "language": "python",
   "name": "python3"
  },
  "language_info": {
   "codemirror_mode": {
    "name": "ipython",
    "version": 2
   },
   "file_extension": ".py",
   "mimetype": "text/x-python",
   "name": "python",
   "nbconvert_exporter": "python",
   "pygments_lexer": "ipython2",
   "version": "2.7.6"
  }
 },
 "nbformat": 4,
 "nbformat_minor": 5
}
