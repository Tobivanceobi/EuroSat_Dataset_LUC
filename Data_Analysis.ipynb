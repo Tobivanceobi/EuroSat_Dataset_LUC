{
 "cells": [
  {
   "metadata": {},
   "cell_type": "markdown",
   "source": "# Analysing EuroSat Dataset",
   "id": "6dff9eb5ceeb6fd1"
  },
  {
   "metadata": {},
   "cell_type": "markdown",
   "source": "### Config for data paths and terminal colors",
   "id": "f04abb8e9b503220"
  },
  {
   "cell_type": "code",
   "id": "initial_id",
   "metadata": {
    "collapsed": true,
    "ExecuteTime": {
     "end_time": "2024-05-02T12:48:30.595524Z",
     "start_time": "2024-05-02T12:48:30.583059Z"
    }
   },
   "source": [
    "class Config:\n",
    "    DATA_DIR = '/usr/local/share/datasets/euroSat/'\n",
    "    TRAIN_FILE = DATA_DIR + 'train.csv'\n",
    "    TEST_FILE = DATA_DIR + 'test.csv'\n",
    "    SAMPLE_SUBMISSION_FILE = DATA_DIR + 'sample_submission.csv'\n",
    "    TRAIN_RGB_DIR = DATA_DIR + 'train/EuroSAT_RGB/'\n",
    "    TRAIN_MS_DIR = DATA_DIR + 'train/EuroSAT_MS/'\n",
    "\n",
    "    TEST_MS_DIR = DATA_DIR + 'test/NoLabel/'\n",
    "    MEAN_STD_FILE = \"tmp/eurosat_ms_mean_std\"\n",
    "    MEAN_STD_FILE_L2C = \"tmp/eurosat_ms_mean_std_L2C\"\n",
    "    MEAN_STD_FILE_L2A = \"tmp/eurosat_ms_mean_std_L2A\"\n",
    "    TEST_LABELD_FILE = \"labels.csv\"\n",
    "\n",
    "class bcolors:\n",
    "    HEADER = '\\033[95m'\n",
    "    OKBLUE = '\\033[94m'\n",
    "    OKCYAN = '\\033[96m'\n",
    "    OKGREEN = '\\033[92m'\n",
    "    WARNING = '\\033[93m'\n",
    "    FAIL = '\\033[91m'\n",
    "    ENDC = '\\033[0m'\n",
    "    BOLD = '\\033[1m'\n",
    "    UNDERLINE = '\\033[4m'\n",
    "\n",
    "c = bcolors()\n",
    "config = Config()"
   ],
   "outputs": [],
   "execution_count": 1
  },
  {
   "metadata": {},
   "cell_type": "markdown",
   "source": "### Helper functions for loading pickle data",
   "id": "6dd24b873c4da544"
  },
  {
   "metadata": {
    "ExecuteTime": {
     "end_time": "2024-05-02T12:48:30.603683Z",
     "start_time": "2024-05-02T12:48:30.597939Z"
    }
   },
   "cell_type": "code",
   "source": [
    "import pickle\n",
    "\n",
    "def load_object(fname):\n",
    "    try:\n",
    "        with open(fname + \".pickle\", \"rb\") as f:\n",
    "            return pickle.load(f)\n",
    "    except Exception as ex:\n",
    "        print(\"Error during unpickling object (Possibly unsupported):\", ex)\n",
    "\n",
    "\n",
    "def save_object(obj, fname):\n",
    "    try:\n",
    "        with open(fname + \".pickle\", \"wb\") as f:\n",
    "            pickle.dump(obj, f, protocol=pickle.HIGHEST_PROTOCOL)\n",
    "    except Exception as ex:\n",
    "        print(\"Error during pickling object (Possibly unsupported):\", ex)"
   ],
   "id": "610ef6623cce327",
   "outputs": [],
   "execution_count": 2
  },
  {
   "metadata": {
    "ExecuteTime": {
     "end_time": "2024-05-02T12:48:31.202580Z",
     "start_time": "2024-05-02T12:48:30.605582Z"
    }
   },
   "cell_type": "code",
   "source": [
    "import os\n",
    "import numpy as np\n",
    "import pandas as pd\n",
    "import rasterio\n",
    "from joblib import Parallel, delayed\n",
    "\n",
    "df = pd.read_csv(config.TRAIN_FILE)\n",
    "chan_L2C = [0, 1, 2, 3, 4, 5, 6, 7, 8, 9, 10, 11]\n",
    "chan_L2A = [0, 1, 2, 3, 4, 5, 6, 7, 8, 10, 11, 12]\n",
    "\n",
    "data_L2C_files = [\n",
    "    d + '/' + f for d in os.listdir(config.TRAIN_MS_DIR)\n",
    "    for f in os.listdir(config.TRAIN_MS_DIR + d)\n",
    "]\n",
    "\n",
    "data_L2A_files = os.listdir(config.TEST_MS_DIR)\n",
    "\n",
    "data_paths_L2C = [os.path.join(config.TRAIN_MS_DIR, f) for f in data_L2C_files]\n",
    "data_paths_L2A = [os.path.join(config.TEST_MS_DIR, f) for f in data_L2A_files]\n",
    "print(f\"{c.OKBLUE}Number of L2C images: {len(data_paths_L2C)}\")\n",
    "print(f\"{c.OKBLUE}Number of L2A images: {len(data_paths_L2A)}\")\n"
   ],
   "id": "31455cc70cb2cd36",
   "outputs": [
    {
     "name": "stdout",
     "output_type": "stream",
     "text": [
      "\u001B[94mNumber of L2C images: 27000\n",
      "\u001B[94mNumber of L2A images: 4232\n"
     ]
    }
   ],
   "execution_count": 3
  },
  {
   "metadata": {
    "ExecuteTime": {
     "end_time": "2024-05-02T12:48:31.216183Z",
     "start_time": "2024-05-02T12:48:31.204457Z"
    }
   },
   "cell_type": "code",
   "source": [
    "def process_image(idx, d_paths):\n",
    "    if idx % 1000 == 0:\n",
    "        print(f\"Processing image {idx}...\")\n",
    "\n",
    "    img_path = d_paths[idx]\n",
    "\n",
    "    if img_path.endswith(\".npy\"):\n",
    "        image = np.load(img_path).transpose(2, 0, 1)\n",
    "        image = image[chan_L2C].astype(np.float32)\n",
    "    else:\n",
    "        with rasterio.open(img_path) as src:\n",
    "            image = np.array(src.read())\n",
    "        image = image[chan_L2A].astype(np.float32)\n",
    "    \n",
    "    # get the min and max of each channel\n",
    "    min_chan, max_chan = image.min(axis=(1, 2)), image.max(axis=(1, 2))\n",
    "\n",
    "    mean = np.mean(image, axis=(1, 2))\n",
    "    std = np.std(image, axis=(1, 2))\n",
    "\n",
    "    return mean, std, min_chan, max_chan\n",
    "\n",
    "def get_overall_mean_std(results):\n",
    "    means = np.array([stat[0] for stat in results])\n",
    "    stds = np.array([stat[1] for stat in results])\n",
    "\n",
    "    overall_mean = np.mean(means, axis=0)\n",
    "    overall_std = np.mean(stds, axis=0)\n",
    "\n",
    "    return overall_mean, overall_std\n",
    "\n",
    "def get_overall_min_max(results):\n",
    "    min_vals = np.array([stat[2] for stat in results])\n",
    "    max_vals = np.array([stat[3] for stat in results])\n",
    "\n",
    "    overall_min = np.mean(min_vals, axis=0)\n",
    "    overall_max = np.mean(max_vals, axis=0)\n",
    "\n",
    "    return overall_min, overall_max"
   ],
   "id": "a5f50fd7567e27fc",
   "outputs": [],
   "execution_count": 4
  },
  {
   "metadata": {
    "ExecuteTime": {
     "end_time": "2024-05-02T12:53:17.020681Z",
     "start_time": "2024-05-02T12:48:32.630926Z"
    }
   },
   "cell_type": "code",
   "source": [
    "stats_L2C = Parallel(n_jobs=-4)(\n",
    "    delayed(process_image)(idx, data_paths_L2C) for idx in range(len(data_paths_L2C))\n",
    ")\n",
    "\n",
    "mean_L2C, std_L2C = get_overall_mean_std(stats_L2C)\n",
    "min_L2C, max_L2C = get_overall_min_max(stats_L2C)"
   ],
   "id": "47fdb9ebbcb0394d",
   "outputs": [],
   "execution_count": 5
  },
  {
   "metadata": {
    "ExecuteTime": {
     "end_time": "2024-05-02T12:53:17.028589Z",
     "start_time": "2024-05-02T12:53:17.022589Z"
    }
   },
   "cell_type": "code",
   "source": [
    "print(\"Overall Mean L2C:    \", list([round(i, 3) for i in mean_L2C]))\n",
    "print(\"Overall Std Dev L2C: \", list([round(i, 3) for i in std_L2C]))\n",
    "\n",
    "print(\"Overall Min L2C:     \", list([round(i, 3) for i in min_L2C]))\n",
    "print(\"Overall Max L2C:     \", list([round(i, 3) for i in max_L2C]))"
   ],
   "id": "3c5db9d95caea352",
   "outputs": [
    {
     "name": "stdout",
     "output_type": "stream",
     "text": [
      "Overall Mean L2C:     [1353.732, 1117.196, 1041.886, 946.556, 1199.187, 2003.004, 2374.012, 2301.228, 732.185, 1820.695, 1118.201, 2599.776]\n",
      "Overall Std Dev L2C:  [65.289, 153.755, 187.676, 278.091, 227.896, 355.89, 455.075, 530.717, 98.918, 378.115, 303.069, 502.103]\n",
      "Overall Min L2C:      [1236.94, 864.673, 690.741, 470.055, 742.607, 1215.664, 1388.282, 1053.108, 527.87, 1009.013, 519.858, 1495.878]\n",
      "Overall Max L2C:      [1560.355, 2144.7, 2197.044, 2442.571, 2066.732, 3120.732, 3759.036, 4220.174, 975.034, 3016.484, 2194.036, 4083.037]\n"
     ]
    }
   ],
   "execution_count": 6
  },
  {
   "metadata": {
    "ExecuteTime": {
     "end_time": "2024-05-02T12:53:17.036631Z",
     "start_time": "2024-05-02T12:53:17.029924Z"
    }
   },
   "cell_type": "code",
   "source": [
    "save_object(dict(\n",
    "    mean=mean_L2C,\n",
    "    std=std_L2C,\n",
    "    idx_l2c=chan_L2C,\n",
    "    min=min_L2C,\n",
    "    max=max_L2C\n",
    "), \"tmp/eurosat_ms_mean_std_L2C\")"
   ],
   "id": "9d9814c20777048b",
   "outputs": [],
   "execution_count": 7
  },
  {
   "metadata": {
    "ExecuteTime": {
     "end_time": "2024-05-02T12:53:18.035875Z",
     "start_time": "2024-05-02T12:53:17.039085Z"
    }
   },
   "cell_type": "code",
   "source": [
    "stats_L2A = Parallel(n_jobs=-4)(\n",
    "    delayed(process_image)(idx, data_paths_L2A) for idx in range(len(data_paths_L2A))\n",
    ")\n",
    "\n",
    "mean_L2A, std_L2A = get_overall_mean_std(stats_L2A)\n",
    "min_L2A, max_L2A = get_overall_min_max(stats_L2A)"
   ],
   "id": "88ee9ab3d35e8ae5",
   "outputs": [],
   "execution_count": 8
  },
  {
   "metadata": {
    "ExecuteTime": {
     "end_time": "2024-05-02T12:53:18.043185Z",
     "start_time": "2024-05-02T12:53:18.037308Z"
    }
   },
   "cell_type": "code",
   "source": [
    "print(\"Overall Mean L2A:    \", list([round(i, 3) for i in mean_L2A]))\n",
    "print(\"Overall Std Dev L2A: \", list([round(i, 3) for i in std_L2A]))\n",
    "\n",
    "print(\"Overall Min L2A:     \", list([round(i, 3) for i in min_L2A]))\n",
    "print(\"Overall Max L2A:     \", list([round(i, 3) for i in max_L2A]))"
   ],
   "id": "74041aebfe73df05",
   "outputs": [
    {
     "name": "stdout",
     "output_type": "stream",
     "text": [
      "Overall Mean L2A:     [380.173, 400.149, 628.864, 578.871, 943.427, 1826.243, 2116.666, 2205.976, 2281.183, 2266.932, 1487.692, 959.235]\n",
      "Overall Std Dev L2A:  [115.16, 209.123, 241.177, 301.069, 269.481, 420.199, 503.757, 597.968, 529.349, 403.888, 398.094, 342.399]\n",
      "Overall Min L2A:      [198.793, 100.154, 210.173, 143.857, 425.231, 846.068, 961.567, 724.469, 1050.31, 1380.276, 667.476, 362.698]\n",
      "Overall Max L2A:      [795.486, 1908.949, 2160.55, 2265.381, 2041.951, 3159.708, 3682.206, 4257.495, 3861.278, 3332.05, 2768.335, 2238.926]\n"
     ]
    }
   ],
   "execution_count": 9
  },
  {
   "metadata": {
    "ExecuteTime": {
     "end_time": "2024-05-02T12:53:18.052471Z",
     "start_time": "2024-05-02T12:53:18.044561Z"
    }
   },
   "cell_type": "code",
   "source": [
    "save_object(dict(\n",
    "    mean=mean_L2A,\n",
    "    std=std_L2A,\n",
    "    idx_l2c=chan_L2A,\n",
    "    min=min_L2A,\n",
    "    max=max_L2A\n",
    "), \"tmp/eurosat_ms_mean_std_L2A\")"
   ],
   "id": "f5ff8ad2795e981c",
   "outputs": [],
   "execution_count": 10
  },
  {
   "metadata": {},
   "cell_type": "code",
   "outputs": [],
   "execution_count": null,
   "source": "",
   "id": "6bb938aacd9f17bb"
  }
 ],
 "metadata": {
  "kernelspec": {
   "display_name": "Python 3",
   "language": "python",
   "name": "python3"
  },
  "language_info": {
   "codemirror_mode": {
    "name": "ipython",
    "version": 2
   },
   "file_extension": ".py",
   "mimetype": "text/x-python",
   "name": "python",
   "nbconvert_exporter": "python",
   "pygments_lexer": "ipython2",
   "version": "2.7.6"
  }
 },
 "nbformat": 4,
 "nbformat_minor": 5
}
