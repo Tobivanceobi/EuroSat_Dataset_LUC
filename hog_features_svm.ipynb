{
 "cells": [
  {
   "cell_type": "markdown",
   "source": [
    "## Using HOG Features and a SVM"
   ],
   "metadata": {
    "collapsed": false
   },
   "id": "d935e06d12e014c1"
  },
  {
   "cell_type": "markdown",
   "source": [
    "### Training"
   ],
   "metadata": {
    "collapsed": false
   },
   "id": "65b4fa81f6e75c04"
  },
  {
   "cell_type": "code",
   "execution_count": 7,
   "id": "initial_id",
   "metadata": {
    "collapsed": true,
    "ExecuteTime": {
     "end_time": "2024-04-06T14:50:29.095527Z",
     "start_time": "2024-04-06T14:45:24.738275Z"
    }
   },
   "outputs": [
    {
     "name": "stdout",
     "output_type": "stream",
     "text": [
      "Accuracy:  0.528425925925926\n",
      "                      precision    recall  f1-score   support\n",
      "\n",
      "          AnnualCrop       0.64      0.76      0.70      1192\n",
      "              Forest       0.49      0.60      0.54      1197\n",
      "HerbaceousVegetation       0.36      0.35      0.35      1195\n",
      "             Highway       0.65      0.59      0.62      1059\n",
      "          Industrial       0.55      0.42      0.48       962\n",
      "             Pasture       0.28      0.13      0.18       779\n",
      "       PermanentCrop       0.41      0.31      0.35       979\n",
      "         Residential       0.44      0.74      0.55      1206\n",
      "               River       0.75      0.69      0.72      1045\n",
      "             SeaLake       0.64      0.52      0.57      1186\n",
      "\n",
      "            accuracy                           0.53     10800\n",
      "           macro avg       0.52      0.51      0.51     10800\n",
      "        weighted avg       0.53      0.53      0.52     10800\n"
     ]
    }
   ],
   "source": [
    "from sklearn.preprocessing import LabelEncoder\n",
    "from skimage.feature import hog\n",
    "from sklearn import svm\n",
    "from sklearn.metrics import classification_report, accuracy_score\n",
    "from sklearn.model_selection import train_test_split\n",
    "from skimage import io, color\n",
    "import tifffile\n",
    "import numpy as np\n",
    "import os\n",
    "import glob\n",
    "\n",
    "\n",
    "def load_rgb_images_and_labels(base_dir):\n",
    "    labels = []\n",
    "    features = []\n",
    "    label_names = os.listdir(base_dir)\n",
    "    \n",
    "    for label_name in label_names:\n",
    "        dir_path = os.path.join(base_dir, label_name)\n",
    "        image_files = glob.glob(os.path.join(dir_path, \"*.jpg\"))\n",
    "        \n",
    "        for image_file in image_files:\n",
    "            image = io.imread(image_file)\n",
    "            \n",
    "            # convert the image to grayscale as HOG needs a single channel image\n",
    "            if image.ndim == 3:\n",
    "                image = color.rgb2gray(image)\n",
    "            \n",
    "            # extract HOG features\n",
    "            fd = hog(image, orientations=8, pixels_per_cell=(16,16), cells_per_block=(1,1), block_norm='L2-Hys')\n",
    "            \n",
    "            features.append(fd)\n",
    "            labels.append(label_name) # using dir name as label\n",
    "    return np.array(features), np.array(labels), label_names\n",
    "\n",
    "def load_ms_images_and_labels(base_dir):\n",
    "    labels = []\n",
    "    features = []\n",
    "    label_names = [d for d in os.listdir(base_dir) if not d.startswith('.')] ## ignoring macs .DS_Store file\n",
    "\n",
    "    \n",
    "    for label_name in label_names:\n",
    "        dir_path = os.path.join(base_dir, label_name)\n",
    "        image_files = glob.glob(os.path.join(dir_path, \"*.tif\"))\n",
    "        \n",
    "        for image_file in image_files:\n",
    "            # TIFF files can contain multiple bands\n",
    "            image = tifffile.imread(image_file)\n",
    "        \n",
    "            \n",
    "            # averaging the bands\n",
    "            if image.ndim == 3:\n",
    "                image = np.mean(image, axis=2)\n",
    "            \n",
    "            # Extract HOG features\n",
    "            fd = hog(image, orientations=8, pixels_per_cell=(16,16), cells_per_block=(1,1), block_norm='L2-Hys')\n",
    "            \n",
    "            features.append(fd)\n",
    "            labels.append(label_name)\n",
    "    return np.array(features), np.array(labels), label_names\n",
    "\n",
    "base_dir_rgb = \"./data/train/EuroSAT_RGB\"\n",
    "X_rgb, y_rgb, label_names_rgb = load_rgb_images_and_labels(base_dir_rgb)\n",
    "\n",
    "base_dir_ms = \"./data/train/EuroSAT_MS\"\n",
    "X_ms, y_ms, label_names_ms = load_ms_images_and_labels(base_dir_ms)\n",
    "\n",
    "# Ensure the labels match between RGB and MS datasets\n",
    "assert set(label_names_rgb) == set(label_names_ms)\n",
    "\n",
    "# Combine the datasets\n",
    "X = np.concatenate((X_rgb, X_ms), axis=0)\n",
    "y = np.concatenate((y_rgb, y_ms), axis=0)\n",
    "\n",
    "# Encode labels to integers\n",
    "le = LabelEncoder()\n",
    "y_encoded = le.fit_transform(y)\n",
    "\n",
    "# Split the dataset\n",
    "X_train, X_test, y_train, y_test = train_test_split(X, y_encoded, test_size=0.2, random_state=42)\n",
    "\n",
    "# Train the classifier\n",
    "clf = svm.SVC(gamma='scale')\n",
    "clf.fit(X_train, y_train)\n",
    "\n",
    "# Predict and evaluate the classifier\n",
    "y_pred = clf.predict(X_test)\n",
    "print(\"Accuracy: \", accuracy_score(y_test, y_pred))\n",
    "print(classification_report(y_test, y_pred, target_names=le.classes_))  # Use le.classes_ to get the original label names\n"
   ]
  },
  {
   "cell_type": "markdown",
   "source": [
    "### Testing"
   ],
   "metadata": {
    "collapsed": false
   },
   "id": "2a8b2feb034435a3"
  },
  {
   "cell_type": "code",
   "outputs": [
    {
     "name": "stdout",
     "output_type": "stream",
     "text": [
      "Submission file has been saved to ./submission.csv\n"
     ]
    }
   ],
   "source": [
    "import pandas as pd\n",
    "\n",
    "test_npy_path = \"./data/testset/testset/\"\n",
    "test_csv_path = \"./data/test.csv\"\n",
    "test_df = pd.read_csv(test_csv_path)\n",
    "\n",
    "def preprocess_and_extract_features(image_array):\n",
    "    # Check if the image is RGB or multispectral based on the number of channels\n",
    "    if image_array.ndim == 3:\n",
    "        if image_array.shape[2] == 3:  # RGB image\n",
    "            image_gray = color.rgb2gray(image_array)\n",
    "        elif image_array.shape[2] > 3:  # MS image, assuming more than 3 channels\n",
    "            # averaging the bands\n",
    "            image_gray = np.mean(image_array, axis=2)\n",
    "        else:\n",
    "            raise ValueError(\"The array does not have a recognized channel size for RGB or MS images.\")\n",
    "        \n",
    "        # Extract HOG features\n",
    "        features = hog(image_gray, orientations=8, pixels_per_cell=(16,16),\n",
    "                       cells_per_block=(1,1), block_norm='L2-Hys')\n",
    "    else:\n",
    "        raise ValueError(\"The array is not three-dimensional as expected for an image.\")\n",
    "    \n",
    "    return features\n",
    "\n",
    "predictions = []\n",
    "for test_id in test_df[\"test_id\"]:\n",
    "    image_npy_path = os.path.join(test_npy_path, f\"test_{test_id}.npy\")\n",
    "    image_array = np.load(image_npy_path)\n",
    "    \n",
    "    features = preprocess_and_extract_features(image_array)\n",
    "    \n",
    "    predicted_label_index = clf.predict([features])[0]\n",
    "    predicted_label = le.inverse_transform([predicted_label_index])[0]\n",
    "    \n",
    "    predictions.append(predicted_label)\n",
    "    \n",
    "submission_df = pd.DataFrame({\n",
    "    \"test_id\": test_df[\"test_id\"],\n",
    "    \"label\": predictions\n",
    "})\n",
    "\n",
    "submission_csv_path = \"./submission.csv\"\n",
    "submission_df.to_csv(submission_csv_path, index=False)\n",
    "\n",
    "print(f\"Submission file has been saved to {submission_csv_path}\")\n",
    "\n"
   ],
   "metadata": {
    "collapsed": false,
    "ExecuteTime": {
     "end_time": "2024-04-06T15:11:06.289085Z",
     "start_time": "2024-04-06T15:10:34.747534Z"
    }
   },
   "id": "79c210769faee85f",
   "execution_count": 12
  },
  {
   "cell_type": "code",
   "outputs": [],
   "source": [],
   "metadata": {
    "collapsed": false
   },
   "id": "d1cd77719db18c9a"
  }
 ],
 "metadata": {
  "kernelspec": {
   "display_name": "Python 3",
   "language": "python",
   "name": "python3"
  },
  "language_info": {
   "codemirror_mode": {
    "name": "ipython",
    "version": 2
   },
   "file_extension": ".py",
   "mimetype": "text/x-python",
   "name": "python",
   "nbconvert_exporter": "python",
   "pygments_lexer": "ipython2",
   "version": "2.7.6"
  }
 },
 "nbformat": 4,
 "nbformat_minor": 5
}
